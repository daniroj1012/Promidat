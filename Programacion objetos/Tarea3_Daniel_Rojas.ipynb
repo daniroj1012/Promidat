{
 "cells": [
  {
   "cell_type": "markdown",
   "id": "600f6ab0",
   "metadata": {},
   "source": [
    "## Tarea3_Daniel_Rojas\n"
   ]
  },
  {
   "cell_type": "code",
   "execution_count": 41,
   "id": "83288bdd",
   "metadata": {},
   "outputs": [],
   "source": [
    "import os\n",
    "os.chdir('//Users/danielrojaschacon/Documents') #cambiar segun el directorio"
   ]
  },
  {
   "cell_type": "code",
   "execution_count": 42,
   "id": "6cbd17ed",
   "metadata": {},
   "outputs": [],
   "source": [
    "import Modulo1\n",
    "from Modulo1 import circulo as circulo\n",
    "from Modulo1 import cuadrado as cuadrado\n",
    "from Modulo1 import tarjeta as tarjeta\n",
    "from Modulo1 import pd as pd\n",
    "from Modulo1 import calificaciones as calificaciones\n",
    "from Modulo1 import mi_DF as mi_DF\n",
    "from Modulo1 import analisis as analisis\n",
    "from Modulo1 import np as np"
   ]
  },
  {
   "cell_type": "code",
   "execution_count": 43,
   "id": "15796775",
   "metadata": {},
   "outputs": [
    {
     "name": "stdout",
     "output_type": "stream",
     "text": [
      "Pasó por modificar\n",
      "Escribiendo Valor\n",
      "Pasó por obtener\n",
      "3\n",
      "Perimetro Circulo:  9.42477796076938\n",
      "Area Circulo:  7.0685834705770345\n",
      "Pasó por modificar\n",
      "Escribiendo Valor\n",
      "Pasó por obtener\n",
      "2\n",
      "Perimetro Cuadrado:  8\n",
      "Perimetro Cuadrado:  4\n"
     ]
    }
   ],
   "source": [
    "\n",
    "circulo=circulo()\n",
    "circulo.diametro=3\n",
    "print(circulo.diametro)\n",
    "print('Perimetro Circulo: ', circulo.calcular_perimetro())\n",
    "print('Area Circulo: ',circulo.calcular_area())\n",
    "\n",
    "\n",
    "cuadrado=cuadrado()\n",
    "cuadrado.lado=2\n",
    "print(cuadrado.lado)\n",
    "print('Perimetro Cuadrado: ',cuadrado.calcular_perimetro())\n",
    "print('Perimetro Cuadrado: ',cuadrado.calcular_area())\n",
    "\n",
    "\n",
    "\n",
    "\n",
    "\n",
    "\n",
    "\n",
    "\n"
   ]
  },
  {
   "cell_type": "code",
   "execution_count": 44,
   "id": "ebb9ff63",
   "metadata": {},
   "outputs": [
    {
     "name": "stdout",
     "output_type": "stream",
     "text": [
      "Nombre: , Pin:0 , Saldo 0.000000\n",
      "Escribiendo Saldo\n",
      "Nombre: daniel, Pin:2 , Saldo 34.332300\n",
      "Nombre: daniel, Pin:2 , Saldo 3034.332300\n",
      "Nombre: daniel, Pin:2 , Saldo 2034.332300\n"
     ]
    }
   ],
   "source": [
    "tarjeta=tarjeta()\n",
    "print(tarjeta)\n",
    "tarjeta.nombre='daniel'\n",
    "tarjeta.pin=2\n",
    "tarjeta.saldo=34.3323\n",
    "print(tarjeta)\n",
    "\n",
    "tarjeta.depositar_dinero(3000)\n",
    "print(tarjeta)\n",
    "#tarjeta.depositar_dinero(-2999)\n",
    "#tarjeta.retirar_dinero(-222)\n",
    "tarjeta.retirar_dinero(1000)\n",
    "print(tarjeta)"
   ]
  },
  {
   "cell_type": "code",
   "execution_count": 45,
   "id": "4f43df25",
   "metadata": {},
   "outputs": [
    {
     "name": "stdout",
     "output_type": "stream",
     "text": [
      "Calificaciones actualizadas para Jose en Ciencias con nota 5:\n",
      "   Unnamed: 0  Matematicas  Ciencias  Espanol  Historia  EdFisica\n",
      "0      Lucia          7.0       6.5      9.2       8.6       8.0\n",
      "1      Pedro          7.5       9.4      7.3       7.0       7.0\n",
      "2       Ines          7.6       9.2      8.0       8.0       7.5\n",
      "3       Luis          5.0       6.5      6.5       7.0       9.0\n",
      "4     Andres          6.0       6.0      7.8       8.9       7.3\n",
      "5        Ana          7.8       9.6      7.7       8.0       6.5\n",
      "6     Carlos          6.3       6.4      8.2       9.0       7.2\n",
      "7       Jose          7.9       5.0      7.5       8.0       6.0\n",
      "8      Sonia          6.0       6.0      6.5       5.5       8.7\n",
      "9      Maria          6.8       7.2      8.7       9.0       7.0\n",
      "Promedio de Jose:  6.88\n",
      "Promedio de Ciencias:  7.18\n",
      "La cantidad de estudiantes reprobados para la materia Ciencias es de: 6\n",
      "Estudiante agregado correctamente\n",
      "Calificaciones luego de agregar a Daniel:\n",
      "    Unnamed: 0  Matematicas  Ciencias  Espanol  Historia  EdFisica\n",
      "0       Lucia          7.0       6.5      9.2       8.6       8.0\n",
      "1       Pedro          7.5       9.4      7.3       7.0       7.0\n",
      "2        Ines          7.6       9.2      8.0       8.0       7.5\n",
      "3        Luis          5.0       6.5      6.5       7.0       9.0\n",
      "4      Andres          6.0       6.0      7.8       8.9       7.3\n",
      "5         Ana          7.8       9.6      7.7       8.0       6.5\n",
      "6      Carlos          6.3       6.4      8.2       9.0       7.2\n",
      "7        Jose          7.9       5.0      7.5       8.0       6.0\n",
      "8       Sonia          6.0       6.0      6.5       5.5       8.7\n",
      "9       Maria          6.8       7.2      8.7       9.0       7.0\n",
      "10     Daniel          9.0       9.0      9.0       9.0       9.0\n",
      "Estudiante eliminado correctamente\n",
      "Calificaciones luego de eliminar a Jose:\n",
      "    Unnamed: 0  Matematicas  Ciencias  Espanol  Historia  EdFisica\n",
      "0       Lucia          7.0       6.5      9.2       8.6       8.0\n",
      "1       Pedro          7.5       9.4      7.3       7.0       7.0\n",
      "2        Ines          7.6       9.2      8.0       8.0       7.5\n",
      "3        Luis          5.0       6.5      6.5       7.0       9.0\n",
      "4      Andres          6.0       6.0      7.8       8.9       7.3\n",
      "5         Ana          7.8       9.6      7.7       8.0       6.5\n",
      "6      Carlos          6.3       6.4      8.2       9.0       7.2\n",
      "8       Sonia          6.0       6.0      6.5       5.5       8.7\n",
      "9       Maria          6.8       7.2      8.7       9.0       7.0\n",
      "10     Daniel          9.0       9.0      9.0       9.0       9.0\n"
     ]
    }
   ],
   "source": [
    "df=pd.read_csv('ejemplo_estudiantes.csv',delimiter=';',decimal=',')\n",
    "\n",
    "\n",
    "calificaciones=calificaciones()\n",
    "calificaciones.DF=df\n",
    "\n",
    "\n",
    "calificaciones.actualizar_nota('Jose', 'Ciencias', 5)\n",
    "print('Calificaciones actualizadas para Jose en Ciencias con nota 5:\\n',calificaciones.DF)\n",
    "print('Promedio de Jose: ',calificaciones.promedio_estudiante('Jose'))\n",
    "print('Promedio de Ciencias: ',calificaciones.promedio_materia('Ciencias'))\n",
    "print(calificaciones.cantidad_reprobados('Ciencias'))\n",
    "df2=['Daniel',9,9,9,9,9]\n",
    "print(calificaciones.agregar_estudiante(df2))\n",
    "print('Calificaciones luego de agregar a Daniel:\\n',calificaciones.DF)\n",
    "\n",
    "print(calificaciones.eliminar_estudiante('Jose'))\n",
    "print('Calificaciones luego de eliminar a Jose:\\n',calificaciones.DF)"
   ]
  },
  {
   "cell_type": "code",
   "execution_count": 46,
   "id": "dfdd3938",
   "metadata": {},
   "outputs": [
    {
     "name": "stdout",
     "output_type": "stream",
     "text": [
      "mydf:\n",
      "    Unnamed: 0  Matematicas  Ciencias  Espanol  Historia  EdFisica\n",
      "0       Lucia          7.0       6.5      9.2       8.6       8.0\n",
      "1       Pedro          7.5       9.4      7.3       7.0       7.0\n",
      "2        Ines          7.6       9.2      8.0       8.0       7.5\n",
      "3        Luis          5.0       6.5      6.5       7.0       9.0\n",
      "4      Andres          6.0       6.0      7.8       8.9       7.3\n",
      "5         Ana          7.8       9.6      7.7       8.0       6.5\n",
      "6      Carlos          6.3       6.4      8.2       9.0       7.2\n",
      "7        Jose          7.9       5.0      7.5       8.0       6.0\n",
      "8       Sonia          6.0       6.0      6.5       5.5       8.7\n",
      "9       Maria          6.8       7.2      8.7       9.0       7.0\n",
      "10     Daniel          9.0       9.0      9.0       9.0       9.0\n",
      "Divisible entre 3: 13\n",
      "{'Correlacion': {'Matematicas': 1.0, 'Ciencias': 0.5545803169509222}, 'Covarianza': {'Matematicas': 1.258909090909091, 'Ciencias': 1.0214545454545452}}\n",
      "La correlacion y la covarianza son\n",
      " {'Correlacion': {'Matematicas': 1.0, 'Ciencias': 0.5545803169509222}, 'Covarianza': {'Matematicas': 1.258909090909091, 'Ciencias': 1.0214545454545452}}\n",
      "Desviacion Estandar por Columna: {0: 4.0, 1: 4.0, 2: 4.0, 3: 4.0}\n",
      "Media por Columna: {0: 4.0, 1: 5.0, 2: 6.0, 3: 7.0}\n",
      "Mediana por Columna: {0: 4.0, 1: 5.0, 2: 6.0, 3: 7.0}\n",
      "Maximo: 11\n",
      "Los Indices son: [2, 3]\n",
      "Los Indices son: none\n"
     ]
    }
   ],
   "source": [
    "mydf=mi_DF(df)\n",
    "print('mydf:\\n',mydf.DF)\n",
    "print('Divisible entre 3:',mydf.divisibles_3())\n",
    "\n",
    "print('La correlacion y la covarianza son\\n',mydf.relacion_columnas(1,2))\n",
    "\n",
    "analisis=analisis()\n",
    "x = np.matrix(np.arange(12).reshape((3,4))); x\n",
    "analisis.np=x\n",
    "df3=analisis.as_data_frame()\n",
    "print('Desviacion Estandar por Columna:',analisis.desviacion_estandar(df3))\n",
    "print('Media por Columna:',analisis.media(df3))\n",
    "print('Mediana por Columna:',analisis.mediana(df3))\n",
    "print('Maximo:',analisis.maximo())\n",
    "print('Los Indices son:',analisis.buscar(11))\n",
    "print('Los Indices son:',analisis.buscar(55))"
   ]
  },
  {
   "cell_type": "code",
   "execution_count": null,
   "id": "4c314c13",
   "metadata": {},
   "outputs": [],
   "source": []
  }
 ],
 "metadata": {
  "kernelspec": {
   "display_name": "Python 3 (ipykernel)",
   "language": "python",
   "name": "python3"
  },
  "language_info": {
   "codemirror_mode": {
    "name": "ipython",
    "version": 3
   },
   "file_extension": ".py",
   "mimetype": "text/x-python",
   "name": "python",
   "nbconvert_exporter": "python",
   "pygments_lexer": "ipython3",
   "version": "3.8.8"
  }
 },
 "nbformat": 4,
 "nbformat_minor": 5
}
