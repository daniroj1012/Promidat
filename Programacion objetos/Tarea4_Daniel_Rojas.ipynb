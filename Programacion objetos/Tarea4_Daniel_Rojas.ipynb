{
 "cells": [
  {
   "cell_type": "markdown",
   "id": "8651dabe",
   "metadata": {},
   "source": [
    "## Tarea4_Daniel_Rojas"
   ]
  },
  {
   "cell_type": "code",
   "execution_count": 37,
   "id": "400892df",
   "metadata": {},
   "outputs": [],
   "source": [
    "import os\n",
    "os.chdir('//Users/danielrojaschacon/Documents') #cambiar segun el directorio"
   ]
  },
  {
   "cell_type": "code",
   "execution_count": 38,
   "id": "5a87ea94",
   "metadata": {},
   "outputs": [],
   "source": [
    "import modulo2\n",
    "from modulo2 import Cliente,Ciudad,Alimentoextra,BoletoAvion,BoletoEjecutivo,Boletoclientefrecuente"
   ]
  },
  {
   "cell_type": "code",
   "execution_count": 18,
   "id": "cc11663e",
   "metadata": {},
   "outputs": [
    {
     "name": "stdout",
     "output_type": "stream",
     "text": [
      "Ciudad:  Salida: San Jose Destino: New York\n",
      "Hora: 17:34:37\n",
      "\n",
      "Cliente:  Nombre: Daniel\n",
      "Direccion: Tibas\n",
      "Telefono: 85497881\n",
      "\n",
      "Boleto Avion:  Valor Boleto: 2000\n",
      "Impuesto Salida: 0.12\n",
      "Hora Salida: 03:21:12\n",
      "Hora llegada: 21:21:21\n",
      "Nombre: Daniel\n",
      "Direccion: Tibas\n",
      "Telefono: 85497881\n",
      "Salida: San Jose Destino: New York\n",
      "Hora: 17:34:37\n",
      "\n",
      "Alimento:  Codigo: 21212\n",
      "Precio: 233\n",
      "Descripcion: arroz\n",
      "\n",
      "Boleto Ejecutivo:  Valor Boleto: 2500\n",
      "Impuesto Salida: 0.12\n",
      "Hora Salida: 1:21:21\n",
      "Hora llegada: 21:21:21\n",
      "Nombre: Daniel\n",
      "Direccion: Tibas\n",
      "Telefono: 85497881\n",
      "Salida: Sam Jose Destino: New York\n",
      "Hora: 17:34:37\n"
     ]
    }
   ],
   "source": [
    "ciudad=Ciudad('San Jose','New York')\n",
    "cliente=Cliente('Daniel','Tibas','85497881')\n",
    "boletoavion=BoletoAvion(cliente.nombrecliente,cliente.direccioncliente,cliente.telefonocliente,'San Jose','New York',2000,0.12,'03:21:12','21:21:21')\n",
    "alimento=Alimentoextra('21212','arroz',233)\n",
    "bole=BoletoEjecutivo(cliente.nombrecliente,cliente.direccioncliente,cliente.telefonocliente,'Sam Jose','New York',2500,0.12,'1:21:21','21:21:21')\n",
    "print('Ciudad: ',ciudad)\n",
    "print('\\nCliente: ',cliente)\n",
    "\n",
    "print('\\nBoleto Avion: ',boletoavion)\n",
    "print('\\nAlimento: ',alimento)\n",
    "\n",
    "print('\\nBoleto Ejecutivo: ',bole)\n"
   ]
  },
  {
   "cell_type": "code",
   "execution_count": 39,
   "id": "b05bff52",
   "metadata": {},
   "outputs": [
    {
     "name": "stdout",
     "output_type": "stream",
     "text": [
      "Boleto Cliente Frecuente:  Valor Boleto: 2500\n",
      "Impuesto Salida: 0.12\n",
      "Hora Salida: 1:21:21\n",
      "Hora llegada: 21:21:21\n",
      "Nombre: Daniel\n",
      "Direccion: Tibas\n",
      "Telefono: 85497881\n",
      "Salida: Sam Jose Destino: New York\n",
      "Hora: 17:53:090.1\n",
      "Alimento: Codigo: 213323\n",
      "Precio: 32\n",
      "Descripcion: sandwich\n"
     ]
    }
   ],
   "source": [
    "#print(boletoavion)\n",
    "boletopref=Boletoclientefrecuente(cliente.nombrecliente,cliente.direccioncliente,cliente.telefonocliente,'Sam Jose','New York',2500,0.12,'1:21:21','21:21:21',0.10)\n",
    "\n",
    "print('Boleto Cliente Frecuente: ',boletopref)\n",
    "alimento2=Alimentoextra('213323','sandwich',32)\n",
    "bole.Alimentoextra=alimento2\n",
    "alimento2=Alimentoextra('232343','galleta',33)\n",
    "bole.Alimentoextra=alimento2\n",
    "\n",
    "print('Alimento:',bole.Alimentoextra[0])"
   ]
  },
  {
   "cell_type": "code",
   "execution_count": 40,
   "id": "44048a4b",
   "metadata": {},
   "outputs": [
    {
     "name": "stdout",
     "output_type": "stream",
     "text": [
      "2930.0\n",
      "2520.0\n",
      "2240.0\n"
     ]
    }
   ],
   "source": [
    "print(bole.precioPagar())\n",
    "print(boletopref.precioPagar())\n",
    "print(boletoavion.precioPagar())\n"
   ]
  },
  {
   "cell_type": "code",
   "execution_count": 48,
   "id": "04ea28eb",
   "metadata": {},
   "outputs": [],
   "source": [
    "import modulo3\n",
    "from modulo3 import repuesto,fecha,fechatest,fabricante,proveedor,fabricanteoriginal,nuevo,nooriginal,usados,nonuevos,original\n",
    "\n",
    "\n",
    "rep=repuesto('3232',50000,'llantas')\n",
    "date=fecha('12','Diciembre',2010)\n",
    "datetest=fechatest(22)\n",
    "fabri=fabricante('XXXXX','China')\n",
    "prov=proveedor('23242',2,fabri.nombre,fabri.pais)\n",
    "fabriori=fabricanteoriginal('San Jose','2433212','dsds@mail.com',fabri.nombre,fabri.pais)\n",
    "new=nuevo(rep.codigo,rep.nombre,rep.precio,2)\n",
    "noori=nooriginal(rep.codigo,rep.nombre,rep.precio,'Taiwan')\n",
    "used=usados(noori.codigo,noori.nombre,noori.precio,noori.paisfabricacion,date,datetest)\n",
    "nonew=nonuevos('7676','jhhjf',9090,'China',fabri)\n",
    "ori=original('32232','fdfdf',3243,1992,date,fabri)\n",
    "\n"
   ]
  },
  {
   "cell_type": "code",
   "execution_count": 49,
   "id": "2b363405",
   "metadata": {},
   "outputs": [
    {
     "name": "stdout",
     "output_type": "stream",
     "text": [
      "Codigo: 3232\n",
      "Precio: llantas\n",
      "Nombre: 50000\n",
      "Dia: 12\n",
      "Mes: Diciembre\n",
      "Anno: 2010\n",
      "Numero de Dia: 22\n",
      "Nombre: XXXXX\n",
      "Pais China\n",
      "Nombre: XXXXX\n",
      "Pais China\n",
      "Codigo: 23242\n",
      "Indice: 2\n"
     ]
    }
   ],
   "source": [
    "print(rep)\n",
    "\n",
    "print(date)\n",
    "\n",
    "print(datetest)\n",
    "\n",
    "print(fabri)\n",
    "\n",
    "print(prov)\n",
    "\n"
   ]
  },
  {
   "cell_type": "code",
   "execution_count": 50,
   "id": "44b8d9ab",
   "metadata": {},
   "outputs": [
    {
     "name": "stdout",
     "output_type": "stream",
     "text": [
      "Nombre: XXXXX\n",
      "Pais China\n",
      "Direccion: San Jose\n",
      "Telefono: 2433212\n",
      "Email: dsds@mail.com\n",
      "Codigo: 3232\n",
      "Precio: llantas\n",
      "Nombre: 50000\n",
      "Pais Fabricacion: Taiwan\n",
      "Metodo Calcula Precio: 0\n",
      "Codigo: 3232\n",
      "Precio: llantas\n",
      "Nombre: 50000\n",
      "Pais Fabricacion: Taiwan\n",
      "Provedor: Nombre: XXXXX\n",
      "Pais China\n",
      "Codigo: 23242\n",
      "Indice: 2\n",
      "Fecha: Dia: 12\n",
      "Mes: Diciembre\n",
      "Anno: 2010\n",
      "Fecha Test: Numero de Dia: 22\n",
      "Metodo Calcula Precio: 0\n",
      "Codigo: 7676\n",
      "Precio: 9090\n",
      "Nombre: jhhjf\n",
      "Pais Fabricacion: China\n",
      "Fabricante: Nombre: XXXXX\n",
      "Pais China\n",
      "Metodo Calcula Precio: 0\n",
      "Codigo: 32232\n",
      "Precio: 3243\n",
      "Nombre: fdfdf\n",
      "Año Garantia: 1992\n",
      "Fecha: Dia: 12\n",
      "Mes: Diciembre\n",
      "Anno: 2010\n",
      "Fabricante Orinigal Nombre: XXXXX\n",
      "Pais China\n",
      "Metodo Calcula Precio: 8075070.0\n"
     ]
    }
   ],
   "source": [
    "print(fabriori)\n",
    "used.provedor=prov\n",
    "print(noori)\n",
    "print('Metodo Calcula Precio:',noori.calculaprecio()) #Este Metodo me esta dando error\n",
    "print(used)\n",
    "print('Metodo Calcula Precio:',used.calculaprecio())\n",
    "print(nonew)\n",
    "print('Metodo Calcula Precio:',nonew.calculaprecio())\n",
    "print(ori)\n",
    "print('Metodo Calcula Precio:',ori.calculaprecio())"
   ]
  },
  {
   "cell_type": "code",
   "execution_count": null,
   "id": "7aad73da",
   "metadata": {},
   "outputs": [],
   "source": []
  }
 ],
 "metadata": {
  "kernelspec": {
   "display_name": "Python 3 (ipykernel)",
   "language": "python",
   "name": "python3"
  },
  "language_info": {
   "codemirror_mode": {
    "name": "ipython",
    "version": 3
   },
   "file_extension": ".py",
   "mimetype": "text/x-python",
   "name": "python",
   "nbconvert_exporter": "python",
   "pygments_lexer": "ipython3",
   "version": "3.8.8"
  }
 },
 "nbformat": 4,
 "nbformat_minor": 5
}
